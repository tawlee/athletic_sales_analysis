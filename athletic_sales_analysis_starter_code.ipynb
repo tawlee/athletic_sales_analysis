{
 "cells": [
  {
   "cell_type": "code",
   "execution_count": 3,
   "metadata": {},
   "outputs": [],
   "source": [
    "# Import Libraries and Dependencies\n",
    "import pandas as pd\n",
    "from pathlib import Path"
   ]
  },
  {
   "cell_type": "markdown",
   "metadata": {},
   "source": [
    "### 1. Combine and Clean the Data\n",
    "#### Import CSVs"
   ]
  },
  {
   "cell_type": "code",
   "execution_count": 5,
   "metadata": {},
   "outputs": [],
   "source": [
    "# Read the CSV files into DataFrames.\n",
    "\n",
    "# Year 2020\n",
    "athletic_sales_2020 = 'athletic_sales_2020.csv'\n",
    "df_2020 = pd.read_csv(athletic_sales_2020)\n",
    "\n",
    "# Year 2021\n",
    "athletic_sales_2021 = 'athletic_sales_2021.csv'\n",
    "df_2021 = pd.read_csv(athletic_sales_2021)"
   ]
  },
  {
   "cell_type": "code",
   "execution_count": 6,
   "metadata": {},
   "outputs": [
    {
     "name": "stdout",
     "output_type": "stream",
     "text": [
      "      retailer  retailer_id invoice_date     region         state  \\\n",
      "0  Foot Locker      1185732       1/1/20  Northeast      New York   \n",
      "1  Foot Locker      1185732       1/1/20  Northeast  Pennsylvania   \n",
      "2  Foot Locker      1185732       1/1/20  Northeast  Pennsylvania   \n",
      "3  Foot Locker      1185732       1/1/20  Northeast      New York   \n",
      "4  Foot Locker      1185732       1/1/20  Northeast  Pennsylvania   \n",
      "\n",
      "           city                product  price_per_unit  units_sold  \\\n",
      "0      New York  Men's Street Footwear              50        1200   \n",
      "1  Philadelphia        Women's Apparel              68          83   \n",
      "2  Philadelphia        Women's Apparel              75         275   \n",
      "3      New York  Men's Street Footwear              34         384   \n",
      "4  Philadelphia        Women's Apparel              53          83   \n",
      "\n",
      "   total_sales  operating_profit sales_method  \n",
      "0       600000         300000.00     In-store  \n",
      "1         5644           2426.92       Online  \n",
      "2       206250          61875.00       Outlet  \n",
      "3        13056           6789.12       Outlet  \n",
      "4         4399           1407.68       Outlet  \n"
     ]
    }
   ],
   "source": [
    "# Display the 2020 sales DataFrame\n",
    "print(df_2020.head())\n"
   ]
  },
  {
   "cell_type": "code",
   "execution_count": 7,
   "metadata": {},
   "outputs": [
    {
     "name": "stdout",
     "output_type": "stream",
     "text": [
      "    retailer  retailer_id invoice_date   region       state           city  \\\n",
      "0  West Gear      1128299       1/1/21     West  California  San Francisco   \n",
      "1  West Gear      1128299       1/1/21     West  California  San Francisco   \n",
      "2     Kohl's      1189833       1/1/21  Midwest     Montana       Billings   \n",
      "3     Kohl's      1189833       1/1/21  Midwest     Montana       Billings   \n",
      "4  West Gear      1128299       1/1/21     West  California  San Francisco   \n",
      "\n",
      "                   product  price_per_unit  units_sold  total_sales  \\\n",
      "0  Men's Athletic Footwear              65         750       487500   \n",
      "1  Men's Athletic Footwear              51         233        11883   \n",
      "2            Men's Apparel              50         275       137500   \n",
      "3            Men's Apparel              47          77         3619   \n",
      "4  Men's Athletic Footwear              64         225        14400   \n",
      "\n",
      "   operating_profit sales_method  \n",
      "0         121875.00       Outlet  \n",
      "1           3208.41       Outlet  \n",
      "2          82500.00       Outlet  \n",
      "3           2714.25       Online  \n",
      "4           5184.00       Online  \n"
     ]
    }
   ],
   "source": [
    "# Display the 2021 sales DataFrame\n",
    "print(df_2021.head())"
   ]
  },
  {
   "cell_type": "markdown",
   "metadata": {},
   "source": [
    "#### Check the data types of each DataFrame"
   ]
  },
  {
   "cell_type": "code",
   "execution_count": 10,
   "metadata": {},
   "outputs": [
    {
     "data": {
      "text/plain": [
       "pandas.core.frame.DataFrame"
      ]
     },
     "execution_count": 10,
     "metadata": {},
     "output_type": "execute_result"
    }
   ],
   "source": [
    "# Check the 2020 sales data types.\n",
    "type(df_2020)"
   ]
  },
  {
   "cell_type": "code",
   "execution_count": null,
   "metadata": {},
   "outputs": [],
   "source": [
    "# Check the 2021 sales data types.\n"
   ]
  },
  {
   "cell_type": "markdown",
   "metadata": {},
   "source": [
    "#### Combine the sales data by rows."
   ]
  },
  {
   "cell_type": "code",
   "execution_count": null,
   "metadata": {},
   "outputs": [],
   "source": [
    "# Combine the 2020 and 2021 sales DataFrames on the rows and reset the index.\n"
   ]
  },
  {
   "cell_type": "code",
   "execution_count": null,
   "metadata": {},
   "outputs": [],
   "source": [
    "# Check if any values are null.\n"
   ]
  },
  {
   "cell_type": "code",
   "execution_count": null,
   "metadata": {},
   "outputs": [],
   "source": [
    "# Check the data type of each column\n"
   ]
  },
  {
   "cell_type": "code",
   "execution_count": null,
   "metadata": {},
   "outputs": [],
   "source": [
    "# Convert the \"invoice_date\" to a datetime datatype\n"
   ]
  },
  {
   "cell_type": "code",
   "execution_count": null,
   "metadata": {},
   "outputs": [],
   "source": [
    "# Confirm that the \"invoice_date\" data type has been changed.\n"
   ]
  },
  {
   "cell_type": "markdown",
   "metadata": {},
   "source": [
    "### 2. Determine which Region Sold the Most Products"
   ]
  },
  {
   "cell_type": "markdown",
   "metadata": {},
   "source": [
    "#### Using `groupby`"
   ]
  },
  {
   "cell_type": "code",
   "execution_count": null,
   "metadata": {},
   "outputs": [],
   "source": [
    "# Show the number products sold for region, state, and city.\n",
    "# Rename the sum to \"Total_Products_Sold\".\n",
    "\n",
    "\n",
    "\n",
    "\n",
    "# Show the top 5 results.\n",
    "                            "
   ]
  },
  {
   "cell_type": "markdown",
   "metadata": {},
   "source": [
    "#### Using `pivot_table`"
   ]
  },
  {
   "cell_type": "code",
   "execution_count": null,
   "metadata": {},
   "outputs": [],
   "source": [
    "# Show the number products sold for region, state, and city.\n",
    "\n",
    "\n",
    "# Rename the \"units_sold\" column to \"Total_Products_Sold\"\n",
    "\n",
    "\n",
    "# Show the top 5 results.\n"
   ]
  },
  {
   "cell_type": "markdown",
   "metadata": {},
   "source": [
    "### 3. Determine which Region had the Most Sales"
   ]
  },
  {
   "cell_type": "markdown",
   "metadata": {},
   "source": [
    "#### Using `groupby`"
   ]
  },
  {
   "cell_type": "code",
   "execution_count": null,
   "metadata": {},
   "outputs": [],
   "source": [
    "# Show the total sales for the products sold for each region, state, and city.\n",
    "# Rename the \"total_sales\" column to \"Total Sales\"\n",
    "\n",
    "\n",
    "# Show the top 5 results.\n"
   ]
  },
  {
   "cell_type": "markdown",
   "metadata": {},
   "source": [
    "#### Using `pivot_table`"
   ]
  },
  {
   "cell_type": "code",
   "execution_count": null,
   "metadata": {},
   "outputs": [],
   "source": [
    "# Show the total sales for the products sold for each region, state, and city.\n",
    "\n",
    "\n",
    "# Optional: Rename the \"total_sales\" column to \"Total Sales\"\n",
    "\n",
    "\n",
    "# Show the top 5 results.\n"
   ]
  },
  {
   "cell_type": "markdown",
   "metadata": {
    "jp-MarkdownHeadingCollapsed": true,
    "tags": []
   },
   "source": [
    "### 4. Determine which Retailer had the Most Sales"
   ]
  },
  {
   "cell_type": "markdown",
   "metadata": {},
   "source": [
    "#### Using `groupby`"
   ]
  },
  {
   "cell_type": "code",
   "execution_count": null,
   "metadata": {},
   "outputs": [],
   "source": [
    "# Show the total sales for the products sold for each retailer, region, state, and city.\n",
    "# Rename the \"total_sales\" column to \"Total Sales\"\n",
    "\n",
    "# Show the top 5 results.\n"
   ]
  },
  {
   "cell_type": "markdown",
   "metadata": {},
   "source": [
    "#### Using `pivot_table`"
   ]
  },
  {
   "cell_type": "code",
   "execution_count": null,
   "metadata": {},
   "outputs": [],
   "source": [
    "# Show the total sales for the products sold for each retailer, region, state, and city.\n",
    "\n",
    "\n",
    "# Optional: Rename the \"total_sales\" column to \"Total Sales\"\n",
    "\n",
    "\n",
    "# Show the top 5 results.\n"
   ]
  },
  {
   "cell_type": "markdown",
   "metadata": {},
   "source": [
    "### 5. Determine which Retailer Sold the Most Women's Athletic Footwear"
   ]
  },
  {
   "cell_type": "code",
   "execution_count": null,
   "metadata": {},
   "outputs": [],
   "source": [
    "# Filter the sales data to get the women's athletic footwear sales data.\n"
   ]
  },
  {
   "cell_type": "markdown",
   "metadata": {},
   "source": [
    "#### Using `groupby`"
   ]
  },
  {
   "cell_type": "code",
   "execution_count": null,
   "metadata": {},
   "outputs": [],
   "source": [
    "# Show the total number of women's athletic footwear sold for each retailer, region, state, and city.\n",
    "# Rename the \"units_sold\" column to \"Womens_Footwear_Units_Sold\"\n",
    "\n",
    "# Show the top 5 results.\n"
   ]
  },
  {
   "cell_type": "markdown",
   "metadata": {},
   "source": [
    "#### Using `pivot_table`"
   ]
  },
  {
   "cell_type": "code",
   "execution_count": null,
   "metadata": {},
   "outputs": [],
   "source": [
    "# Show the total number of women's athletic footwear sold for each retailer, region, state, and city.\n",
    "\n",
    "\n",
    "# Rename the \"units_sold\" column to \"Womens_Footwear_Units_Sold\"\n",
    "\n",
    "# Show the top 5 results.\n"
   ]
  },
  {
   "cell_type": "markdown",
   "metadata": {},
   "source": [
    "### 5. Determine the Day with the Most Women's Athletic Footwear Sales"
   ]
  },
  {
   "cell_type": "code",
   "execution_count": null,
   "metadata": {},
   "outputs": [],
   "source": [
    "# Create a pivot table with the 'invoice_date' column is the index, and the \"total_sales\" as the values.\n",
    "\n",
    "\n",
    "# Optional: Rename the \"total_sales\" column to \"Total Sales\"\n",
    "\n",
    "\n",
    "# Show the table.\n"
   ]
  },
  {
   "cell_type": "code",
   "execution_count": null,
   "metadata": {},
   "outputs": [],
   "source": [
    "# Resample the pivot table into daily bins, and get the total sales for each day.\n",
    "\n",
    "\n",
    "# Sort the resampled pivot table in ascending order on \"Total Sales\".\n"
   ]
  },
  {
   "cell_type": "markdown",
   "metadata": {},
   "source": [
    "### 6.  Determine the Week with the Most Women's Athletic Footwear Sales"
   ]
  },
  {
   "cell_type": "code",
   "execution_count": null,
   "metadata": {},
   "outputs": [],
   "source": [
    "# Resample the pivot table into weekly bins, and get the total sales for each week.\n",
    "\n",
    "\n",
    "# Sort the resampled pivot table in ascending order on \"Total Sales\".\n"
   ]
  },
  {
   "cell_type": "code",
   "execution_count": null,
   "metadata": {},
   "outputs": [],
   "source": []
  }
 ],
 "metadata": {
  "kernelspec": {
   "display_name": "Python 3 (ipykernel)",
   "language": "python",
   "name": "python3"
  },
  "language_info": {
   "codemirror_mode": {
    "name": "ipython",
    "version": 3
   },
   "file_extension": ".py",
   "mimetype": "text/x-python",
   "name": "python",
   "nbconvert_exporter": "python",
   "pygments_lexer": "ipython3",
   "version": "3.11.5"
  }
 },
 "nbformat": 4,
 "nbformat_minor": 4
}
